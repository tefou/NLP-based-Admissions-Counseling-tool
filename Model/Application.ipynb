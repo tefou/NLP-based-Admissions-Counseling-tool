{
 "cells": [
  {
   "cell_type": "code",
   "execution_count": 61,
   "metadata": {},
   "outputs": [],
   "source": [
    "def preprocessing(text):\n",
    "    with open('stopword.txt','r', encoding='utf-8') as f:\n",
    "        sw = f.readlines()\n",
    "    sw = [i[:-1] for i in sw]\n",
    "    text = ' '.join([word.lower() for word in text.split() if word.lower() not in sw]).strip()\n",
    "    text = re.sub(r'[^a-zA-Z0123456789àáạảãâầấậẩẫăằắặẳẵèéẹẻẽêềếệểễìíịỉĩòóọỏõôồốộổỗơờớợởỡùúụủũưừứựửữỳýỵỷỹđÀÁẠẢÃÂẦẤẬẨẪĂẰẮẶẲẴÈÉẸẺẼÊỀẾỆỂỄÌÍỊỈĨÒÓỌỎÕÔỒỐỘỔỖƠỜỚỢỞỠÙÚỤỦŨƯỪỨỰỬỮỲÝỴỶỸĐ\\s]', '', text.lower())\n",
    "    return text"
   ]
  },
  {
   "cell_type": "code",
   "execution_count": 62,
   "metadata": {},
   "outputs": [],
   "source": [
    "from pyvi import ViTokenizer\n",
    "import pandas as pd\n",
    "import re\n",
    "import joblib\n",
    "from tensorflow.keras.models import load_model"
   ]
  },
  {
   "cell_type": "code",
   "execution_count": 63,
   "metadata": {},
   "outputs": [],
   "source": [
    "#countvectorize , one hot endcoding\n",
    "import joblib\n",
    "from keras.models import load_model\n",
    "count_vectorizer = joblib.load('count_vectorizer.joblib')\n",
    "onehot = joblib.load('one_hot_encoder.joblib')"
   ]
  },
  {
   "cell_type": "code",
   "execution_count": 64,
   "metadata": {},
   "outputs": [],
   "source": [
    "# áp dụng mô hình đã được huấn luyện\n",
    "model = load_model('model.h5')\n"
   ]
  },
  {
   "cell_type": "code",
   "execution_count": 72,
   "metadata": {},
   "outputs": [
    {
     "name": "stdout",
     "output_type": "stream",
     "text": [
      "học trí tuệ nhân học python\n",
      "1/1 [==============================] - 0s 20ms/step\n",
      "Genre:  [['CN']]\n"
     ]
    }
   ],
   "source": [
    "user_input = input('Enter your description: ') #nhap input\n",
    "preprocessed_input = preprocessing(user_input) # tien xu ly - xoa ky tu db, xoa stopwords\n",
    "print(preprocessed_input)\n",
    "input_encoded = count_vectorizer.transform([preprocessed_input]).toarray() #countvector - vector input\n",
    "prediction = model.predict([input_encoded]) # đưa vào mô hình, mô hình trả ra 1 vector [......]\n",
    "predited_label = onehot.inverse_transform(prediction)\n",
    "print('Genre: ', predited_label)"
   ]
  }
 ],
 "metadata": {
  "kernelspec": {
   "display_name": "Python 3",
   "language": "python",
   "name": "python3"
  },
  "language_info": {
   "codemirror_mode": {
    "name": "ipython",
    "version": 3
   },
   "file_extension": ".py",
   "mimetype": "text/x-python",
   "name": "python",
   "nbconvert_exporter": "python",
   "pygments_lexer": "ipython3",
   "version": "3.9.6"
  },
  "orig_nbformat": 4
 },
 "nbformat": 4,
 "nbformat_minor": 2
}
